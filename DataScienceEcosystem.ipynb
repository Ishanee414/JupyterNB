{
 "cells": [
  {
   "cell_type": "markdown",
   "id": "06088987-ba77-4dab-b4f7-c8a45aa93ed0",
   "metadata": {},
   "source": [
    "# Data Science Tools and Ecosystem"
   ]
  },
  {
   "cell_type": "markdown",
   "id": "ef64754b-00a1-4c86-a4d6-24cf1b851884",
   "metadata": {},
   "source": [
    "In this notebook, Data Science Tools and Ecosystem are summarized."
   ]
  },
  {
   "cell_type": "markdown",
   "id": "9256ff88-8838-40fd-abff-ed1dad3e2a33",
   "metadata": {},
   "source": [
    "**Objectives:**\n",
    "- List popular languages for Data Science\n",
    "- List commonly used libraries used by Data Scientists\n",
    "- List popular tools for Data Science\n",
    "- Evaluate arithmetic expressions\n",
    "- Writing code to convert minutes to hours"
   ]
  },
  {
   "cell_type": "markdown",
   "id": "ff9bbcbd-e566-4962-8f59-07a8828d4dec",
   "metadata": {},
   "source": [
    "Some of the popular languages that Data Scientists use are:\n",
    "1. Python\n",
    "2. R programming\n",
    "3. SQL"
   ]
  },
  {
   "cell_type": "markdown",
   "id": "f75d620c-7dd9-418e-a1e6-cd64cfea9749",
   "metadata": {},
   "source": [
    "Some of the commonly used libraries used by Data Scientists include:\n",
    "1. NumPy\n",
    "2. Pandas\n",
    "3. PyTorch"
   ]
  },
  {
   "cell_type": "markdown",
   "id": "78b7ac4d-9ccf-4e91-b2a8-a5ca8c6ba276",
   "metadata": {},
   "source": [
    "|Data Science Tools|\n",
    "|---|\n",
    "|Apache Spark|\n",
    "|Apache Hadoop|\n",
    "|RStudio|"
   ]
  },
  {
   "cell_type": "markdown",
   "id": "2ea1d06f-ea68-4b45-ab12-8dae77f2b7f9",
   "metadata": {},
   "source": [
    "### Below are a few examples of evaluating arithmetic expressions in Python"
   ]
  },
  {
   "cell_type": "code",
   "execution_count": 19,
   "id": "6aa7c9c5-b9d6-443b-84e7-2114fd901446",
   "metadata": {},
   "outputs": [
    {
     "data": {
      "text/plain": [
       "17"
      ]
     },
     "execution_count": 19,
     "metadata": {},
     "output_type": "execute_result"
    }
   ],
   "source": [
    "#This a simple arithmetic expression to mutiply then add integers\n",
    "(3*4)+5"
   ]
  },
  {
   "cell_type": "code",
   "execution_count": 21,
   "id": "7b41e316-b87d-4716-95e4-598a55a5ee75",
   "metadata": {},
   "outputs": [
    {
     "name": "stdout",
     "output_type": "stream",
     "text": [
      "3.3333333333333335\n"
     ]
    }
   ],
   "source": [
    "#This will convert 200 minutes to hours by diving by 60.\n",
    "minutes=200\n",
    "hours=minutes/60\n",
    "print(hours)"
   ]
  },
  {
   "cell_type": "markdown",
   "id": "b5aa89bb-f54f-45b6-98f0-9c669ebd05b6",
   "metadata": {},
   "source": [
    "## Author\n",
    "Ishanee"
   ]
  }
 ],
 "metadata": {
  "kernelspec": {
   "display_name": "Python [conda env:base] *",
   "language": "python",
   "name": "conda-base-py"
  },
  "language_info": {
   "codemirror_mode": {
    "name": "ipython",
    "version": 3
   },
   "file_extension": ".py",
   "mimetype": "text/x-python",
   "name": "python",
   "nbconvert_exporter": "python",
   "pygments_lexer": "ipython3",
   "version": "3.12.7"
  }
 },
 "nbformat": 4,
 "nbformat_minor": 5
}
